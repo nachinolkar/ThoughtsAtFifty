{
 "cells": [
  {
   "cell_type": "code",
   "execution_count": 12,
   "id": "25c1c145",
   "metadata": {},
   "outputs": [
    {
     "ename": "NameError",
     "evalue": "name 'mkdir' is not defined",
     "output_type": "error",
     "traceback": [
      "\u001b[1;31m---------------------------------------------------------------------------\u001b[0m",
      "\u001b[1;31mNameError\u001b[0m                                 Traceback (most recent call last)",
      "Input \u001b[1;32mIn [12]\u001b[0m, in \u001b[0;36m<cell line: 2>\u001b[1;34m()\u001b[0m\n\u001b[0;32m      1\u001b[0m \u001b[38;5;66;03m# Use obsidian-export to export markdown content from obsidian\u001b[39;00m\n\u001b[1;32m----> 2\u001b[0m \u001b[43mmkdir\u001b[49m \u001b[38;5;241m-\u001b[39mp \u001b[38;5;241m/\u001b[39mbuild\u001b[38;5;241m/\u001b[39mcontent\u001b[38;5;241m/\u001b[39mdocs \u001b[38;5;241m/\u001b[39mbuild\u001b[38;5;241m/\u001b[39m__docs\n",
      "\u001b[1;31mNameError\u001b[0m: name 'mkdir' is not defined"
     ]
    }
   ],
   "source": [
    "\n",
    "# Use obsidian-export to export markdown content from obsidian\n",
    "mkdir -p /build/content/docs /build/__docs"
   ]
  },
  {
   "cell_type": "code",
   "execution_count": null,
   "id": "cc73a5fe",
   "metadata": {},
   "outputs": [],
   "source": [
    "# Sync Zola template contents\n",
    "rsync -a __site/zola/ __site/build\n",
    "rsync -a __site/content/ __site/build/content\n",
    "\n",
    "if [ -z \"$STRICT_LINE_BREAKS\" ]; then\n",
    "\techo \"reached here\"\n",
    "\techo -e \"Current Directory $PWD\"\n",
    "    chmod a+x __site/bin/obsidian-export\n",
    "\t__site/bin/obsidian-export --frontmatter=never --hard-linebreaks --no-recursive-embeds __obsidian __site/build/__docs\n",
    "else\n",
    "\t__site/bin/obsidian-export --frontmatter=never --no-recursive-embeds __obsidian __site/build/__docs\n",
    "fi\n",
    "\n",
    "# Run conversion script\n",
    "python __site/convert.py\n",
    "\n",
    "# Build Zola site\n",
    "zola --root __site/build build --output-dir public"
   ]
  }
 ],
 "metadata": {
  "kernelspec": {
   "display_name": "Python 3 (ipykernel)",
   "language": "python",
   "name": "python3"
  },
  "language_info": {
   "codemirror_mode": {
    "name": "ipython",
    "version": 3
   },
   "file_extension": ".py",
   "mimetype": "text/x-python",
   "name": "python",
   "nbconvert_exporter": "python",
   "pygments_lexer": "ipython3",
   "version": "3.9.12"
  }
 },
 "nbformat": 4,
 "nbformat_minor": 5
}
